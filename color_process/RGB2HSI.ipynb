{
 "cells": [
  {
   "cell_type": "code",
   "execution_count": 30,
   "metadata": {},
   "outputs": [],
   "source": [
    "import cv2\n",
    "import numpy as np\n",
    "import math"
   ]
  },
  {
   "cell_type": "code",
   "execution_count": 23,
   "metadata": {},
   "outputs": [],
   "source": [
    "# 读取RGB图像\n",
    "img = cv2.imread('./image1.bmp')"
   ]
  },
  {
   "cell_type": "code",
   "execution_count": 24,
   "metadata": {},
   "outputs": [],
   "source": [
    "# 初始化一个空的HSI图像\n",
    "hsi_img = np.zeros_like(img)"
   ]
  },
  {
   "cell_type": "code",
   "execution_count": 25,
   "metadata": {},
   "outputs": [
    {
     "name": "stderr",
     "output_type": "stream",
     "text": [
      "/Users/mountaintop/opt/anaconda3/envs/NUS_CV/lib/python3.7/site-packages/ipykernel_launcher.py:8: RuntimeWarning: overflow encountered in ubyte_scalars\n",
      "  \n",
      "/Users/mountaintop/opt/anaconda3/envs/NUS_CV/lib/python3.7/site-packages/ipykernel_launcher.py:9: RuntimeWarning: overflow encountered in ubyte_scalars\n",
      "  if __name__ == \"__main__\":\n"
     ]
    }
   ],
   "source": [
    "# 对每个像素进行处理\n",
    "for x in range(img.shape[0]):\n",
    "    for y in range(img.shape[1]):\n",
    "        # 获取当前像素的RGB值\n",
    "        b, g, r = img[x, y]\n",
    "\n",
    "        # 计算色相值\n",
    "        numerator = 0.5 * ((r - g) + (r - b))\n",
    "        denominator = np.sqrt((r - g) ** 2 + (r - b) * (g - b))\n",
    "        hue = np.arccos(numerator / denominator)\n",
    "        h = hue * 180 / np.pi\n",
    "\n",
    "        # 计算饱和度值\n",
    "        min_val = np.min([r, g, b])\n",
    "        saturation = 1 - (3.0 / (r + g + b)) * min_val\n",
    "        s = saturation\n",
    "\n",
    "        # 计算亮度值\n",
    "        intensity = (r + g + b) / 3.0\n",
    "        i = intensity\n",
    "\n",
    "        # 将HSI值设置为当前像素的值\n",
    "        hsi_img[x, y] = [h, s * 255, i]"
   ]
  },
  {
   "cell_type": "code",
   "execution_count": 26,
   "metadata": {},
   "outputs": [
    {
     "data": {
      "text/plain": [
       "(500, 500, 3)"
      ]
     },
     "execution_count": 26,
     "metadata": {},
     "output_type": "execute_result"
    }
   ],
   "source": [
    "hsi_img.shape"
   ]
  },
  {
   "cell_type": "code",
   "execution_count": 44,
   "metadata": {},
   "outputs": [],
   "source": [
    "# 将HSI图像拆分成单独的通道\n",
    "H_channel, S_channel, I_channel = cv2.split(hsi_img)"
   ]
  },
  {
   "cell_type": "code",
   "execution_count": 27,
   "metadata": {},
   "outputs": [],
   "source": [
    "# 创建25x25的算术平均掩模\n",
    "mask = np.ones((25, 25), dtype=np.float32) / 625.0"
   ]
  },
  {
   "cell_type": "code",
   "execution_count": 37,
   "metadata": {},
   "outputs": [],
   "source": [
    "# 定义卷积函数\n",
    "def convolution(image, kernel):\n",
    "    m, n = kernel.shape\n",
    "    if (m == n):\n",
    "        y, x = image.shape\n",
    "        # 表示卷积操作的次数\n",
    "        y = y - m + 1\n",
    "        x = x - n + 1\n",
    "        #创建一个新图像空间\n",
    "        new_image = np.zeros((y,x))\n",
    "        #开始卷积\n",
    "        for i in range(y):\n",
    "            for j in range(x):\n",
    "                new_image[i][j] = np.sum(image[i:i+m, j:j+m]*kernel)\n",
    "    return new_image"
   ]
  },
  {
   "cell_type": "code",
   "execution_count": 50,
   "metadata": {},
   "outputs": [
    {
     "data": {
      "text/plain": [
       "array([[59, 59, 59, ..., 60, 60, 60],\n",
       "       [58, 58, 58, ..., 60, 60, 60],\n",
       "       [58, 58, 58, ..., 60, 60, 60],\n",
       "       ...,\n",
       "       [58, 58, 58, ..., 58, 58, 58],\n",
       "       [58, 58, 58, ..., 58, 58, 58],\n",
       "       [58, 58, 58, ..., 58, 58, 58]], dtype=uint8)"
      ]
     },
     "execution_count": 50,
     "metadata": {},
     "output_type": "execute_result"
    }
   ],
   "source": [
    "# 将掩膜应用于图像\n",
    "H_channel = convolution(H_channel, mask).astype(np.uint8)\n",
    "H_channel"
   ]
  },
  {
   "cell_type": "code",
   "execution_count": 51,
   "metadata": {},
   "outputs": [
    {
     "ename": "error",
     "evalue": "OpenCV(4.7.0) /Users/runner/work/opencv-python/opencv-python/opencv/modules/core/src/merge.dispatch.cpp:129: error: (-215:Assertion failed) mv[i].size == mv[0].size && mv[i].depth() == depth in function 'merge'\n",
     "output_type": "error",
     "traceback": [
      "\u001b[0;31m---------------------------------------------------------------------------\u001b[0m",
      "\u001b[0;31merror\u001b[0m                                     Traceback (most recent call last)",
      "\u001b[0;32m/var/folders/76/d7ytdxx55pbc_thld0wyd29m0000gn/T/ipykernel_7427/3794781118.py\u001b[0m in \u001b[0;36m<module>\u001b[0;34m\u001b[0m\n\u001b[0;32m----> 1\u001b[0;31m \u001b[0mhsi_img\u001b[0m \u001b[0;34m=\u001b[0m \u001b[0mcv2\u001b[0m\u001b[0;34m.\u001b[0m\u001b[0mmerge\u001b[0m\u001b[0;34m(\u001b[0m\u001b[0;34m(\u001b[0m\u001b[0mH_channel\u001b[0m\u001b[0;34m,\u001b[0m \u001b[0mS_channel\u001b[0m\u001b[0;34m,\u001b[0m \u001b[0mI_channel\u001b[0m\u001b[0;34m)\u001b[0m\u001b[0;34m)\u001b[0m\u001b[0;34m\u001b[0m\u001b[0;34m\u001b[0m\u001b[0m\n\u001b[0m",
      "\u001b[0;31merror\u001b[0m: OpenCV(4.7.0) /Users/runner/work/opencv-python/opencv-python/opencv/modules/core/src/merge.dispatch.cpp:129: error: (-215:Assertion failed) mv[i].size == mv[0].size && mv[i].depth() == depth in function 'merge'\n"
     ]
    }
   ],
   "source": [
    "hsi_img = cv2.merge((H_channel, S_channel, I_channel))"
   ]
  },
  {
   "cell_type": "code",
   "execution_count": 31,
   "metadata": {},
   "outputs": [],
   "source": [
    "# 分离色调、饱和度和亮度分量\n",
    "hue, saturation, intensity = cv2.split(img)\n",
    "\n",
    "# 将色调从度数转换为弧度\n",
    "hue = hue / 255.0 * 2 * math.pi\n",
    "\n",
    "# 计算RGB值\n",
    "red = np.zeros_like(hue)\n",
    "green = np.zeros_like(hue)\n",
    "blue = np.zeros_like(hue)\n",
    "\n",
    "# RG sector (0 <= H < 2*pi/3)\n",
    "idx = np.logical_and(hue >= 0, hue < 2 * math.pi / 3)\n",
    "blue[idx] = intensity[idx] * (1 - saturation[idx])\n",
    "red[idx] = intensity[idx] * (1 + saturation[idx] * np.cos(hue[idx]) / np.cos(math.pi / 3 - hue[idx]))\n",
    "green[idx] = 3 * intensity[idx] - (red[idx] + blue[idx])"
   ]
  },
  {
   "cell_type": "code",
   "execution_count": 32,
   "metadata": {},
   "outputs": [],
   "source": [
    "# GB sector (2*pi/3 <= H < 4*pi/3)\n",
    "idx = np.logical_and(hue >= 2 * math.pi / 3, hue < 4 * math.pi / 3)\n",
    "red[idx] = intensity[idx] * (1 - saturation[idx])\n",
    "green[idx] = intensity[idx] * (1 + saturation[idx] * np.cos(hue[idx] - 2 * math.pi / 3) / np.cos(math.pi - hue[idx]))\n",
    "blue[idx] = 3 * intensity[idx] - (red[idx] + green[idx])\n",
    "\n",
    "# BR sector (4*pi/3 <= H < 2*pi)\n",
    "idx = np.logical_and(hue >= 4 * math.pi / 3, hue < 2 * math.pi)\n",
    "green[idx] = intensity[idx] * (1 - saturation[idx])\n",
    "blue[idx] = intensity[idx] * (1 + saturation[idx] * np.cos(hue[idx] - 4 * math.pi / 3) / np.cos(5 * math.pi / 3 - hue[idx]))\n",
    "red[idx] = 3 * intensity[idx] - (green[idx] + blue[idx])\n",
    "\n",
    "# 将RGB值限制在0到255的范围内\n",
    "red = np.clip(red, 0, 255)\n",
    "green = np.clip(green, 0, 255)\n",
    "blue = np.clip(blue, 0, 255)"
   ]
  },
  {
   "cell_type": "code",
   "execution_count": 33,
   "metadata": {},
   "outputs": [],
   "source": [
    "# 将RGB值转换为无符号8位整数类型\n",
    "rgb_img = cv2.merge((blue.astype(np.uint8), green.astype(np.uint8), red.astype(np.uint8)))"
   ]
  },
  {
   "cell_type": "code",
   "execution_count": 35,
   "metadata": {},
   "outputs": [],
   "source": [
    "import matplotlib.pyplot as plt"
   ]
  },
  {
   "cell_type": "code",
   "execution_count": 36,
   "metadata": {},
   "outputs": [
    {
     "data": {
      "text/plain": [
       "<matplotlib.image.AxesImage at 0x7f9f1e6008d0>"
      ]
     },
     "execution_count": 36,
     "metadata": {},
     "output_type": "execute_result"
    },
    {
     "data": {
      "image/png": "[encoded data removed]",
      "text/plain": [
       "<Figure size 640x480 with 1 Axes>"
      ]
     },
     "metadata": {},
     "output_type": "display_data"
    }
   ],
   "source": [
    "plt.imshow(rgb_img)"
   ]
  },
  {
   "cell_type": "code",
   "execution_count": null,
   "metadata": {},
   "outputs": [],
   "source": []
  }
 ],
 "metadata": {
  "kernelspec": {
   "display_name": "NUS_CV",
   "language": "python",
   "name": "python3"
  },
  "language_info": {
   "codemirror_mode": {
    "name": "ipython",
    "version": 3
   },
   "file_extension": ".py",
   "mimetype": "text/x-python",
   "name": "python",
   "nbconvert_exporter": "python",
   "pygments_lexer": "ipython3",
   "version": "3.7.15"
  },
  "orig_nbformat": 4
 },
 "nbformat": 4,
 "nbformat_minor": 2
}
