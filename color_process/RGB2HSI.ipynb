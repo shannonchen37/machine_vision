{
 "cells": [
  {
   "cell_type": "code",
   "execution_count": 1,
   "metadata": {},
   "outputs": [],
   "source": [
    "import cv2\n",
    "import numpy as np\n",
    "import matplotlib.pyplot as plt\n",
    "import copy"
   ]
  },
  {
   "cell_type": "code",
   "execution_count": 2,
   "metadata": {},
   "outputs": [],
   "source": [
    "# 读取BMP格式的图像文件\n",
    "img = cv2.imread('./image1.bmp')\n",
    "img = cv2.cvtColor(img, cv2.COLOR_BGR2RGB)"
   ]
  },
  {
   "cell_type": "code",
   "execution_count": 3,
   "metadata": {},
   "outputs": [],
   "source": [
    "def rgb_to_hsi(rgb):\n",
    "    # 解压缩RGB颜色分量\n",
    "    r, g, b = rgb[:, :, 0], rgb[:, :, 1], rgb[:, :, 2]\n",
    "\n",
    "    # 计算HSI空间中的颜色分量\n",
    "    h, s, i = np.zeros_like(r), np.zeros_like(g), np.zeros_like(b)\n",
    "\n",
    "    # 计算强度分量\n",
    "    i = (r + g + b) / 3\n",
    "\n",
    "    # 计算饱和度分量\n",
    "    s = 1 - np.minimum(r, np.minimum(g, b)) / i\n",
    "    s[i == 0] = 0\n",
    "\n",
    "    # 计算色调分量\n",
    "    theta = np.arccos((0.5 * ((r - g) + (r - b))) / (np.sqrt((r - g) ** 2 + (r - b) * (g - b))) + np.finfo(float).eps)\n",
    "    h[b > g] = 2 * np.pi - theta[b > g]\n",
    "    h[b <= g] = theta[b <= g]\n",
    "\n",
    "    # 将HSI颜色分量合并为一个图像\n",
    "    hsi = np.dstack((h, s, i))\n",
    "\n",
    "    return hsi"
   ]
  },
  {
   "cell_type": "code",
   "execution_count": 4,
   "metadata": {},
   "outputs": [],
   "source": [
    "def hsi_to_rgb(hsi):\n",
    "    # 解压缩HSI颜色分量\n",
    "    h, s, i = hsi[:, :, 0], hsi[:, :, 1], hsi[:, :, 2]\n",
    "\n",
    "    # 计算RGB空间中的颜色分量\n",
    "    r, g, b = np.zeros_like(h), np.zeros_like(h), np.zeros_like(h)\n",
    "\n",
    "    # 通过三个条件判断将HSI颜色分量转换为RGB颜色分量\n",
    "    # 计算RGB空间中的红色分量\n",
    "    idx = (h < 2 * np.pi / 3)\n",
    "    b[idx] = i[idx] * (1 - s[idx])\n",
    "    r[idx] = i[idx] * (1 + s[idx] * np.cos(h[idx]) / np.cos(np.pi / 3 - h[idx]))\n",
    "    g[idx] = 3 * i[idx] - (r[idx] + b[idx])\n",
    "\n",
    "    # 计算RGB空间中的绿色分量\n",
    "    idx = (2 * np.pi / 3 <= h) & (h < 4 * np.pi / 3)\n",
    "    r[idx] = i[idx] * (1 - s[idx])\n",
    "    g[idx] = i[idx] * (1 + s[idx] * np.cos(h[idx] - 2 * np.pi / 3) / np.cos(np.pi - h[idx]))\n",
    "    b[idx] = 3 * i[idx] - (r[idx] + g[idx])\n",
    "\n",
    "    # 计算RGB空间中的蓝色分量\n",
    "    idx = (4 * np.pi / 3 <= h)\n",
    "    g[idx] = i[idx] * (1 - s[idx])\n",
    "    b[idx] = i[idx] * (1 + s[idx] * np.cos(h[idx] - 4 * np.pi / 3) / np.cos(5 * np.pi / 3 - h[idx]))\n",
    "    r[idx] = 3 * i[idx] - (g[idx] + b[idx])\n",
    "\n",
    "    # 将RGB颜色分量合并为一个图像\n",
    "    rgb = np.dstack((r, g, b))\n",
    "\n",
    "    return rgb.astype(np.uint8)"
   ]
  },
  {
   "cell_type": "code",
   "execution_count": 5,
   "metadata": {},
   "outputs": [],
   "source": [
    "# 将图像转换到HSI空间\n",
    "hsi_img = cv2.cvtColor(img, cv2.COLOR_BGR2HSV_FULL)\n",
    "# hsi_img = rgb_to_hsi(img)"
   ]
  },
  {
   "cell_type": "code",
   "execution_count": 6,
   "metadata": {},
   "outputs": [],
   "source": [
    "# 提取H分量\n",
    "h_channel = hsi_img[:, :, 0]\n",
    "\n",
    "# 提取S分量\n",
    "s_channel = hsi_img[:, :, 1]"
   ]
  },
  {
   "cell_type": "code",
   "execution_count": 7,
   "metadata": {},
   "outputs": [],
   "source": [
    "# 定义25x25的平均滤波器\n",
    "kernel_size = 25\n",
    "kernel = np.ones((kernel_size, kernel_size), np.float32) / (kernel_size ** 2)"
   ]
  },
  {
   "cell_type": "code",
   "execution_count": 8,
   "metadata": {},
   "outputs": [],
   "source": [
    "# HSI图像分量平均掩膜处理\n",
    "def channel_mean_filter(channel, kernel):\n",
    "    res = cv2.filter2D(channel, -1, kernel)\n",
    "    return res"
   ]
  },
  {
   "cell_type": "code",
   "execution_count": 9,
   "metadata": {},
   "outputs": [],
   "source": [
    "# 对H分量进行平均滤波\n",
    "h_smoothed = channel_mean_filter(h_channel, kernel)"
   ]
  },
  {
   "cell_type": "code",
   "execution_count": 10,
   "metadata": {},
   "outputs": [],
   "source": [
    "# 对S分量进行平均滤波\n",
    "s_smoothed = channel_mean_filter(s_channel, kernel)"
   ]
  },
  {
   "cell_type": "code",
   "execution_count": 11,
   "metadata": {},
   "outputs": [],
   "source": [
    "# 不能使用浅拷贝创建副本\n",
    "# new_hsi_img = hsi_img\n",
    "# print(id(new_hsi_img))\n",
    "# print(id(hsi_img))"
   ]
  },
  {
   "cell_type": "code",
   "execution_count": 12,
   "metadata": {},
   "outputs": [],
   "source": [
    "# 将原始图像的分量替换为平滑后的分量\n",
    "def change_hsi_img(channel, smoothed):\n",
    "    #使用深拷贝，使用浅拷贝会破坏原始数据\n",
    "    new_hsi_img = copy.deepcopy(hsi_img)\n",
    "    if channel == 'h_channel':\n",
    "        new_hsi_img[:, :, 0] = smoothed\n",
    "    elif channel == 's_channel':\n",
    "        new_hsi_img[:, :, 1] = smoothed\n",
    "    elif channel == 'i_channel':\n",
    "        new_hsi_img[:, :, 2] = smoothed\n",
    "    else:\n",
    "        print('error channel imput!')\n",
    "    return new_hsi_img"
   ]
  },
  {
   "cell_type": "code",
   "execution_count": 13,
   "metadata": {},
   "outputs": [],
   "source": [
    "h_hsi_img = change_hsi_img('h_channel', h_smoothed)"
   ]
  },
  {
   "cell_type": "code",
   "execution_count": 14,
   "metadata": {},
   "outputs": [],
   "source": [
    "# 将图像转换回RGB空间\n",
    "H_change_res = cv2.cvtColor(h_hsi_img, cv2.COLOR_HSV2BGR_FULL)"
   ]
  },
  {
   "cell_type": "code",
   "execution_count": 21,
   "metadata": {},
   "outputs": [
    {
     "data": {
      "text/plain": [
       "Text(0.5, 1.0, 'H channel Change')"
      ]
     },
     "execution_count": 21,
     "metadata": {},
     "output_type": "execute_result"
    },
    {
     "data": {
      "image/png": "[encoded data removed]",
      "text/plain": [
       "<Figure size 640x480 with 1 Axes>"
      ]
     },
     "metadata": {},
     "output_type": "display_data"
    }
   ],
   "source": [
    "plt.imshow(H_change_res)\n",
    "plt.title(\"H channel Change\")"
   ]
  },
  {
   "cell_type": "code",
   "execution_count": 16,
   "metadata": {},
   "outputs": [],
   "source": [
    "s_hsi_img = change_hsi_img('s_channel', s_smoothed)"
   ]
  },
  {
   "cell_type": "code",
   "execution_count": 17,
   "metadata": {},
   "outputs": [],
   "source": [
    "# 将图像转换回RGB空间\n",
    "result = cv2.cvtColor(s_hsi_img, cv2.COLOR_HSV2BGR_FULL)\n",
    "# result = hsi_to_rgb(hsi_img)"
   ]
  },
  {
   "cell_type": "code",
   "execution_count": 18,
   "metadata": {},
   "outputs": [
    {
     "data": {
      "text/plain": [
       "Text(0.5, 1.0, 'S channel Change')"
      ]
     },
     "execution_count": 18,
     "metadata": {},
     "output_type": "execute_result"
    },
    {
     "data": {
      "image/png": "[encoded data removed]",
      "text/plain": [
       "<Figure size 640x480 with 1 Axes>"
      ]
     },
     "metadata": {},
     "output_type": "display_data"
    }
   ],
   "source": [
    "plt.imshow(result)\n",
    "plt.title(\"S channel Change\")"
   ]
  },
  {
   "cell_type": "code",
   "execution_count": null,
   "metadata": {},
   "outputs": [],
   "source": []
  }
 ],
 "metadata": {
  "kernelspec": {
   "display_name": "NUS_CV",
   "language": "python",
   "name": "python3"
  },
  "language_info": {
   "codemirror_mode": {
    "name": "ipython",
    "version": 3
   },
   "file_extension": ".py",
   "mimetype": "text/x-python",
   "name": "python",
   "nbconvert_exporter": "python",
   "pygments_lexer": "ipython3",
   "version": "3.7.15"
  },
  "orig_nbformat": 4,
  "vscode": {
   "interpreter": {
    "hash": "a07beb57828c0d78ccd88dfbe730cf3dfaddf397cb2c0479124c78c32d680997"
   }
  }
 },
 "nbformat": 4,
 "nbformat_minor": 2
}
