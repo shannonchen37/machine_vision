{
 "cells": [
  {
   "cell_type": "code",
   "execution_count": 5,
   "metadata": {},
   "outputs": [],
   "source": [
    "import cv2\n",
    "import numpy as np\n",
    "\n",
    "def homomorphic_filter(img, gamma_l=0.5, gamma_h=2.0, c=1, d0=10):\n",
    "    # 转换成自然对数域\n",
    "    img = np.log1p(np.array(img, dtype=\"float\") / 255)\n",
    "    \n",
    "    # 中心化\n",
    "    M, N = img.shape\n",
    "    center_i, center_j = int(M/2), int(N/2)\n",
    "    for i in range(M):\n",
    "        for j in range(N):\n",
    "            img[i, j] *= (-1) ** (i+j)\n",
    "            \n",
    "    # 频域变换\n",
    "    img_fft = np.fft.fft2(img)\n",
    "    \n",
    "    # 构建同态滤波器函数H\n",
    "    H = np.zeros_like(img_fft)\n",
    "    for i in range(M):\n",
    "        for j in range(N):\n",
    "            H[i, j] = (gamma_h - gamma_l) * (1 - np.exp(-c * ((i-center_i)**2 + (j-center_j)**2) / (d0**2))) + gamma_l\n",
    "    \n",
    "    # 滤波\n",
    "    filtered_img = np.real(np.fft.ifft2(img_fft * H))\n",
    "    \n",
    "    # 反中心化\n",
    "    for i in range(M):\n",
    "        for j in range(N):\n",
    "            filtered_img[i, j] *= (-1) ** (i+j)\n",
    "    \n",
    "    # 反变换回空间域\n",
    "    filtered_img = np.exp(np.clip(filtered_img, 0, None)) - 1\n",
    "    filtered_img = np.uint8(filtered_img / np.max(filtered_img) * 255)\n",
    "    \n",
    "    return filtered_img\n",
    "\n",
    "# 读取灰度图像\n",
    "img = cv2.imread(\"./HF.jpg\", 0)\n",
    "\n",
    "# 对图像进行同态滤波\n",
    "filtered_img = homomorphic_filter(img)\n",
    "\n",
    "# 显示滤波结果\n",
    "cv2.imshow(\"filtered image\", filtered_img)\n",
    "cv2.waitKey(0)\n",
    "cv2.destroyAllWindows()\n"
   ]
  },
  {
   "cell_type": "code",
   "execution_count": null,
   "metadata": {},
   "outputs": [],
   "source": []
  }
 ],
 "metadata": {
  "kernelspec": {
   "display_name": "Python 3.7.16 ('Vision')",
   "language": "python",
   "name": "python3"
  },
  "language_info": {
   "codemirror_mode": {
    "name": "ipython",
    "version": 3
   },
   "file_extension": ".py",
   "mimetype": "text/x-python",
   "name": "python",
   "nbconvert_exporter": "python",
   "pygments_lexer": "ipython3",
   "version": "3.7.16"
  },
  "orig_nbformat": 4,
  "vscode": {
   "interpreter": {
    "hash": "7e11d438e1a4215ecbd876d7080be73e5e3a84cd9de062c2e71a01869f7269f3"
   }
  }
 },
 "nbformat": 4,
 "nbformat_minor": 2
}
