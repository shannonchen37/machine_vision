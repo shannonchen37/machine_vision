{
 "cells": [
  {
   "cell_type": "code",
   "execution_count": 8,
   "metadata": {},
   "outputs": [],
   "source": [
    "import cv2\n",
    "import numpy as np\n",
    "\n",
    "# 读取图像\n",
    "img = cv2.imread(\"./2.jpg\", 0)\n",
    "\n",
    "# 定义截止频率\n",
    "cutoff_freq = 100\n",
    "\n",
    "# 高斯低通滤波器\n",
    "rows, cols = img.shape\n",
    "center_row, center_col = rows // 2, cols // 2\n",
    "\n",
    "# 计算距离中心点的距离\n",
    "distance = np.zeros((rows, cols))\n",
    "for i in range(rows):\n",
    "    for j in range(cols):\n",
    "        distance[i, j] = np.sqrt((i - center_row) ** 2 + (j - center_col) ** 2)\n",
    "\n",
    "# 计算滤波系数\n",
    "filter = np.exp(-(distance ** 2) / (2 * (cutoff_freq ** 2)))\n",
    "\n",
    "# 进行频域卷积\n",
    "img_fft = np.fft.fft2(img)\n",
    "img_filtered_fft = img_fft * filter\n",
    "img_filtered = np.fft.ifft2(img_filtered_fft)\n",
    "img_filtered = np.real(img_filtered)\n",
    "\n",
    "img_filtered = img - 10 * img_filtered\n",
    "\n",
    "# 显示图像\n",
    "cv2.imshow(\"Original Image\", img)\n",
    "cv2.imshow(\"Gaussian Lowpass Filtered Image\", np.uint8(img_filtered))\n",
    "cv2.waitKey(0)\n",
    "cv2.destroyAllWindows()"
   ]
  },
  {
   "cell_type": "markdown",
   "metadata": {},
   "source": [
    "#### 使用上一个代码，修改公式"
   ]
  },
  {
   "cell_type": "code",
   "execution_count": null,
   "metadata": {},
   "outputs": [],
   "source": []
  }
 ],
 "metadata": {
  "kernelspec": {
   "display_name": "Python 3.7.16 ('Vision')",
   "language": "python",
   "name": "python3"
  },
  "language_info": {
   "codemirror_mode": {
    "name": "ipython",
    "version": 3
   },
   "file_extension": ".py",
   "mimetype": "text/x-python",
   "name": "python",
   "nbconvert_exporter": "python",
   "pygments_lexer": "ipython3",
   "version": "3.7.16"
  },
  "orig_nbformat": 4,
  "vscode": {
   "interpreter": {
    "hash": "7e11d438e1a4215ecbd876d7080be73e5e3a84cd9de062c2e71a01869f7269f3"
   }
  }
 },
 "nbformat": 4,
 "nbformat_minor": 2
}
