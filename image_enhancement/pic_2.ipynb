{
 "cells": [
  {
   "attachments": {},
   "cell_type": "markdown",
   "metadata": {},
   "source": [
    "### bmp图像滤波"
   ]
  },
  {
   "cell_type": "code",
   "execution_count": 1,
   "metadata": {},
   "outputs": [
    {
     "data": {
      "image/png": "[encoded data removed]",
      "text/plain": [
       "<PIL.BmpImagePlugin.BmpImageFile image mode=RGB size=400x400>"
      ]
     },
     "execution_count": 1,
     "metadata": {},
     "output_type": "execute_result"
    }
   ],
   "source": [
    "# 读取图像\n",
    "from PIL import Image\n",
    "# 读取bmp图像\n",
    "img = Image.open('./pic_2.bmp')\n",
    "# 显示图像\n",
    "img"
   ]
  },
  {
   "cell_type": "code",
   "execution_count": 2,
   "metadata": {},
   "outputs": [
    {
     "name": "stdout",
     "output_type": "stream",
     "text": [
      "图像尺寸为：400 x 400\n"
     ]
    }
   ],
   "source": [
    "# 获取图像尺寸\n",
    "width, height = img.size\n",
    "\n",
    "# 显示图像尺寸\n",
    "print(\"图像尺寸为：{} x {}\".format(width, height))"
   ]
  },
  {
   "cell_type": "code",
   "execution_count": 3,
   "metadata": {},
   "outputs": [
    {
     "name": "stdout",
     "output_type": "stream",
     "text": [
      "(0, 0, 0)\n",
      "0\n",
      "255\n"
     ]
    }
   ],
   "source": [
    "# 获取图像像素矩阵\n",
    "pixels = img.load()\n",
    "# 显示像素矩阵\n",
    "print(pixels[3,3])\n",
    "print(pixels[399,399][0])\n",
    "print(pixels[399,0][0])"
   ]
  },
  {
   "cell_type": "code",
   "execution_count": 4,
   "metadata": {},
   "outputs": [],
   "source": [
    "import numpy as np"
   ]
  },
  {
   "cell_type": "code",
   "execution_count": 5,
   "metadata": {},
   "outputs": [
    {
     "data": {
      "text/plain": [
       "array([[  0.,   0.,   0., ..., 255., 255., 255.],\n",
       "       [  0.,   0.,   0., ..., 255., 255., 255.],\n",
       "       [  0.,   0.,   0., ..., 255., 255., 255.],\n",
       "       ...,\n",
       "       [255., 255., 255., ...,   0.,   0.,   0.],\n",
       "       [255., 255., 255., ...,   0.,   0.,   0.],\n",
       "       [255., 255., 255., ...,   0.,   0.,   0.]])"
      ]
     },
     "execution_count": 5,
     "metadata": {},
     "output_type": "execute_result"
    }
   ],
   "source": [
    "# 存储成numpy形式\n",
    "image = np.empty((width, height))\n",
    "for x in range(img.width):\n",
    "    for y in range(img.height):\n",
    "        image[y,x] = pixels[x,y][0]\n",
    "image"
   ]
  },
  {
   "cell_type": "code",
   "execution_count": 6,
   "metadata": {},
   "outputs": [
    {
     "data": {
      "text/plain": [
       "160000"
      ]
     },
     "execution_count": 6,
     "metadata": {},
     "output_type": "execute_result"
    }
   ],
   "source": [
    "image.size"
   ]
  },
  {
   "cell_type": "code",
   "execution_count": 7,
   "metadata": {},
   "outputs": [
    {
     "data": {
      "text/plain": [
       "array([[0., 0., 0., ..., 0., 0., 0.],\n",
       "       [0., 0., 0., ..., 0., 0., 0.],\n",
       "       [0., 0., 0., ..., 0., 0., 0.],\n",
       "       ...,\n",
       "       [0., 0., 0., ..., 0., 0., 0.],\n",
       "       [0., 0., 0., ..., 0., 0., 0.],\n",
       "       [0., 0., 0., ..., 0., 0., 0.]])"
      ]
     },
     "execution_count": 7,
     "metadata": {},
     "output_type": "execute_result"
    }
   ],
   "source": [
    "# 假设原始矩阵为mat，p为行填充数，q为列填充数\n",
    "p = 7\n",
    "q = 7\n",
    "\n",
    "# 在原始矩阵的上下和左右分别填充0\n",
    "zero_fill_image = np.pad(image, ((p, p), (q, q)), 'constant', constant_values=0)\n",
    "zero_fill_image"
   ]
  },
  {
   "cell_type": "code",
   "execution_count": 8,
   "metadata": {},
   "outputs": [
    {
     "data": {
      "text/plain": [
       "171396"
      ]
     },
     "execution_count": 8,
     "metadata": {},
     "output_type": "execute_result"
    }
   ],
   "source": [
    "zero_fill_image.size"
   ]
  },
  {
   "cell_type": "code",
   "execution_count": 9,
   "metadata": {},
   "outputs": [
    {
     "name": "stdout",
     "output_type": "stream",
     "text": [
      "384 384\n",
      "[[  0.   0.   0. ... 136. 136. 136.]\n",
      " [  0.   0.   0. ... 153. 153. 153.]\n",
      " [  0.   0.   0. ... 170. 170. 170.]\n",
      " ...\n",
      " [136. 153. 170. ...   0.   0.   0.]\n",
      " [136. 153. 170. ...   0.   0.   0.]\n",
      " [136. 153. 170. ...   0.   0.   0.]]\n"
     ]
    }
   ],
   "source": [
    "# 定义卷积函数\n",
    "def convolution(image, kernel):\n",
    "    m, n = kernel.shape\n",
    "    if (m == n):\n",
    "        y, x = image.shape\n",
    "        # 表示卷积操作的次数\n",
    "        y = y - 2 * m\n",
    "        x = x - 2 * n\n",
    "        print(x,y)\n",
    "        #创建一个新图像空间\n",
    "        new_image = np.zeros((y,x))\n",
    "        #开始卷积\n",
    "        for i in range(y):\n",
    "            for j in range(x):\n",
    "                new_image[i][j] = np.sum(image[i:i+m, j:j+m]*kernel)\n",
    "    return new_image\n",
    "\n",
    "# 定义卷积核\n",
    "kernel = np.full((15, 15), 1/225)\n",
    "\n",
    "# 执行卷积操作\n",
    "new_image = convolution(zero_fill_image, kernel)\n",
    "\n",
    "# 输出卷积结果\n",
    "print(new_image)"
   ]
  },
  {
   "cell_type": "code",
   "execution_count": 10,
   "metadata": {},
   "outputs": [
    {
     "data": {
      "text/plain": [
       "147456"
      ]
     },
     "execution_count": 10,
     "metadata": {},
     "output_type": "execute_result"
    }
   ],
   "source": [
    "new_image.size"
   ]
  },
  {
   "attachments": {},
   "cell_type": "markdown",
   "metadata": {},
   "source": [
    "图像尺寸存在一些问题"
   ]
  },
  {
   "cell_type": "code",
   "execution_count": 11,
   "metadata": {},
   "outputs": [],
   "source": [
    "import matplotlib.pyplot as plt"
   ]
  },
  {
   "cell_type": "code",
   "execution_count": 12,
   "metadata": {},
   "outputs": [
    {
     "data": {
      "image/png": "[encoded data removed]",
      "text/plain": [
       "<Figure size 640x480 with 1 Axes>"
      ]
     },
     "metadata": {},
     "output_type": "display_data"
    }
   ],
   "source": [
    "# 使用imshow()函数将矩阵显示为图像\n",
    "plt.imshow(new_image, cmap='gray')\n",
    "\n",
    "# 显示图像\n",
    "plt.show()"
   ]
  }
 ],
 "metadata": {
  "kernelspec": {
   "display_name": "NUS_CV",
   "language": "python",
   "name": "python3"
  },
  "language_info": {
   "codemirror_mode": {
    "name": "ipython",
    "version": 3
   },
   "file_extension": ".py",
   "mimetype": "text/x-python",
   "name": "python",
   "nbconvert_exporter": "python",
   "pygments_lexer": "ipython3",
   "version": "3.7.15"
  },
  "orig_nbformat": 4
 },
 "nbformat": 4,
 "nbformat_minor": 2
}
