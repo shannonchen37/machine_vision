{
 "cells": [
  {
   "attachments": {},
   "cell_type": "markdown",
   "metadata": {},
   "source": [
    "### 去除椒盐噪声（猫）"
   ]
  },
  {
   "cell_type": "code",
   "execution_count": null,
   "metadata": {},
   "outputs": [],
   "source": [
    "from PIL import Image"
   ]
  },
  {
   "cell_type": "code",
   "execution_count": null,
   "metadata": {},
   "outputs": [],
   "source": [
    "# 打开JPG图像\n",
    "image = Image.open('image_salt_pepper2.jpg')\n",
    "# 显示图像大小\n",
    "print(image.size)\n",
    "# 显示图像模式\n",
    "print(image.mode)\n",
    "# 显示图像\n",
    "image"
   ]
  },
  {
   "attachments": {},
   "cell_type": "markdown",
   "metadata": {},
   "source": [
    "##### 解释图像模式\n",
    "常见的图像模式包括：\n",
    "RGB模式：红、绿、蓝三种颜色通道，每个像素有三个值表示其在红、绿、蓝三个通道上的强度值。\n",
    "RGBA模式：在RGB模式的基础上，增加了一个表示透明度的通道，每个像素有四个值，表示其在红、绿、蓝三个通道上的强度值以及透明度。\n",
    "L模式：灰度图像模式，每个像素只有一个强度值，表示其亮度。\n",
    "CMYK模式：青、品红、黄、黑四种颜色通道，用于打印和印刷等领域。"
   ]
  }
 ],
 "metadata": {
  "language_info": {
   "name": "python"
  },
  "orig_nbformat": 4
 },
 "nbformat": 4,
 "nbformat_minor": 2
}
