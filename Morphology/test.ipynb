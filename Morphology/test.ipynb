{
 "cells": [
  {
   "cell_type": "code",
   "execution_count": 1,
   "metadata": {},
   "outputs": [],
   "source": [
    "import cv2\n",
    "import numpy as np"
   ]
  },
  {
   "cell_type": "code",
   "execution_count": 2,
   "metadata": {},
   "outputs": [],
   "source": [
    "# 自定义腐蚀函数\n",
    "def my_erode(image, kernel):\n",
    "    output = np.zeros_like(image)\n",
    "    height, width = image.shape[:2]\n",
    "    k_height, k_width = kernel.shape[:2]\n",
    "    pad_height = k_height // 2\n",
    "    pad_width = k_width // 2\n",
    "    padded_image = np.pad(image, ((pad_height, pad_height), (pad_width, pad_width)), 'constant')\n",
    "    for y in range(height):\n",
    "        for x in range(width):\n",
    "            output[y, x] = np.min(padded_image[y:y+k_height, x:x+k_width] * kernel)\n",
    "    return output"
   ]
  },
  {
   "cell_type": "code",
   "execution_count": 3,
   "metadata": {},
   "outputs": [],
   "source": [
    "# 自定义膨胀函数\n",
    "def my_dilate(image, kernel):\n",
    "    output = np.zeros_like(image)\n",
    "    height, width = image.shape[:2]\n",
    "    k_height, k_width = kernel.shape[:2]\n",
    "    pad_height = k_height // 2\n",
    "    pad_width = k_width // 2\n",
    "    padded_image = np.pad(image, ((pad_height, pad_height), (pad_width, pad_width)), 'constant')\n",
    "    for y in range(height):\n",
    "        for x in range(width):\n",
    "            output[y, x] = np.max(padded_image[y:y+k_height, x:x+k_width] * kernel)\n",
    "    return output"
   ]
  },
  {
   "cell_type": "code",
   "execution_count": 4,
   "metadata": {},
   "outputs": [],
   "source": [
    "# 自定义开操作函数\n",
    "def my_opening(image, kernel):\n",
    "    erode = cv2.erode(image, kernel)\n",
    "    opening = cv2.dilate(erode, kernel)\n",
    "    return opening\n"
   ]
  },
  {
   "cell_type": "code",
   "execution_count": null,
   "metadata": {},
   "outputs": [],
   "source": []
  }
 ],
 "metadata": {
  "kernelspec": {
   "display_name": "NUS_CV",
   "language": "python",
   "name": "python3"
  },
  "language_info": {
   "codemirror_mode": {
    "name": "ipython",
    "version": 3
   },
   "file_extension": ".py",
   "mimetype": "text/x-python",
   "name": "python",
   "nbconvert_exporter": "python",
   "pygments_lexer": "ipython3",
   "version": "3.7.15"
  },
  "orig_nbformat": 4
 },
 "nbformat": 4,
 "nbformat_minor": 2
}
